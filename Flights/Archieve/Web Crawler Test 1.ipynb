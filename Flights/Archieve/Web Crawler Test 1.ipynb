{
 "cells": [
  {
   "cell_type": "code",
   "execution_count": 48,
   "metadata": {},
   "outputs": [],
   "source": [
    "import numpy as np\n",
    "from bs4 import BeautifulSoup as BS\n",
    "import requests"
   ]
  },
  {
   "cell_type": "code",
   "execution_count": 49,
   "metadata": {},
   "outputs": [],
   "source": [
    "url = \"https://flight.easemytrip.com/FlightList/Index?org=DEL-Delhi,India&dept=BLR-Bangalore,India&adt=1&chd=0&inf=0&cabin=0&airline=undefined&deptDT=01/07/2020&arrDT=undefined&isOneway=true&isDomestic=false&\"\n",
    "\n",
    "r = requests.get(url)\n"
   ]
  },
  {
   "cell_type": "code",
   "execution_count": 50,
   "metadata": {},
   "outputs": [
    {
     "name": "stdout",
     "output_type": "stream",
     "text": [
      "<class 'bs4.BeautifulSoup'>\n"
     ]
    }
   ],
   "source": [
    "soup = BS(r.text,'html.parser')\n",
    "print type(soup)"
   ]
  },
  {
   "cell_type": "code",
   "execution_count": 51,
   "metadata": {},
   "outputs": [],
   "source": [
    "startingPoint = []\n",
    "destination = []\n",
    "date_of_travel = []\n",
    "airlines = []\n",
    "duration = []\n",
    "prices = []\n",
    "coupons= []"
   ]
  },
  {
   "cell_type": "code",
   "execution_count": 52,
   "metadata": {},
   "outputs": [],
   "source": [
    "# print soup"
   ]
  },
  {
   "cell_type": "code",
   "execution_count": 69,
   "metadata": {},
   "outputs": [],
   "source": [
    "# entries = soup.find_all('div',{'class':'col-md-10 col-sm-12 new-padd-0 no-padd-rt pad-lft0'})\n",
    "# row no-margn fltResult ng-scope"
   ]
  },
  {
   "cell_type": "code",
   "execution_count": 70,
   "metadata": {},
   "outputs": [],
   "source": [
    "# soup.find_all?"
   ]
  },
  {
   "cell_type": "code",
   "execution_count": 71,
   "metadata": {},
   "outputs": [],
   "source": [
    "# print len(entries)"
   ]
  },
  {
   "cell_type": "code",
   "execution_count": 72,
   "metadata": {},
   "outputs": [],
   "source": [
    "# print entries"
   ]
  },
  {
   "cell_type": "code",
   "execution_count": 57,
   "metadata": {},
   "outputs": [],
   "source": [
    "entriesList = soup.find_all('div',{'class':'col-md-12 col-sm-12 no-padd'})"
   ]
  },
  {
   "cell_type": "code",
   "execution_count": 62,
   "metadata": {},
   "outputs": [
    {
     "name": "stdout",
     "output_type": "stream",
     "text": [
      "1\n"
     ]
    }
   ],
   "source": [
    "print len(entriesList)"
   ]
  },
  {
   "cell_type": "code",
   "execution_count": 63,
   "metadata": {},
   "outputs": [
    {
     "name": "stdout",
     "output_type": "stream",
     "text": [
      "[<div class=\"col-md-12 col-sm-12 no-padd\">\\n<div><!-- ng-if=\"isDomestic\"-->\\n<div class=\"fli-not-fo\" style=\"display:none;\">\\n<div class=\"fli-not-div\">\\n<div class=\"fli-no-lt\"><img alt=\"flight not found\" height=\"116\" src=\"https://flight.easemytrip.com/Content/img/flight-not-found1.png\" width=\"117\"/></div>\\n<div class=\"fli-no-rt\"> <span class=\"oop-txt\">Oops! No flights found</span> <span class=\"oop-txt2\">There were no flights found for this date &amp; route combination</span> <a class=\"modi-srec3\" href=\"#\">Modify Search &amp; Try Again</a> </div>\\n<div class=\"clr\"></div>\\n</div>\\n</div>\\n<div class=\"row bg-titl-n no-m mar-to-12\">\\n<div class=\"col-md-2 col-sm-2 col-xs-4\" style=\"padding-left:0px;\"><a class=\"air1\" href=\"#\" ng-click=\"sortBy('outbound','b[0].FL[0].AN');\"> Airlines <i class=\" fa air2 pad-4 \"></i></a> </div>\\n<div class=\"col-md-2 col-sm-2 col-xs-4\"><a class=\"arr1\" href=\"#\" ng-click=\"sortBy('outbound','b[0].FL[0].DTM');\"> DEPART<i class=\"fa arr2 pad-4 \"></i></a> </div>\\n<div class=\"col-md-2 col-sm-2 dura1 pdl5\"><a class=\"dur1\" href=\"#\" ng-click=\"sortBy('outbound','TJT');\"> Duration<i class=\"fa dur2 pad-4 \"></i></a> </div>\\n<div class=\"col-md-2 col-sm-2 col-xs-3\"><a class=\"dep1\" href=\"#\" ng-click=\"sortBy('outbound','b[0].FL[b[0].FL.length-1].ATM');\"> ARRIVE<i class=\"fa dep2 pad-4 \"></i></a> </div>\\n<div class=\"col-md-2 col-sm-2 col-xs-2 hidden-xs\">\\n<a class=\"pri1\" href=\"#\" ng-click=\"sortBy('outbound','TTDIS');\" ng-if=\"IsReschedule==false\">Price<i class=\"fa pri2 fa-long-arrow-up pad-4\"></i></a>\\n<a class=\"pri1\" href=\"#\" ng-click=\"sortBy('outbound','TTDIS');\" ng-if=\"IsReschedule==true\">Fare Difference<i class=\"fa pri2 fa-long-arrow-up pad-4\"></i></a>\\n</div>\\n</div>\\n<div data-infinite-scroll=\"loadMoreOutBound()\" data-infinite-scroll-distance=\"1\">\\n<!-- | filter: filterTime_L | filter:FilterByarrivalTime_L  | filter: filterAirlines_L() | filter:filterStops_L()| filter: filterFair -->\\n<div aircode=\"{{GetFltDtl(s.b[0].FL[0]).AC}}\" arrtm=\"{{GetFltDtl(s.b[0].FL[s.b[0].FL.length-1]).ATM}}\" class=\"row no-margn fltResult\" data-ng-repeat=\"(segID,s) in dataToBindOutbound |orderBy : CustomerOrderByOneWay : reverse \" deptm=\"{{GetFltDtl(s.b[0].FL[0]).DTM}}\" ng-if=\"dataToBindOutbound!=null\" price=\"{{s.TF}}\" stop=\"{{GetFltDtl(s.b[0].FL[0]).STP}}\" tjt=\"{{s.TJT}}\">\\n<div class=\"col-md-12 col-sm-12 main-bo-lis pad-top-bot\" ng-if=\"s.l_OB==null\">\\n<div class=\"row\">\\n<div class=\"col-md-2 col-sm-2 col-xs-4\">\\n<div class=\"row\">\\n<div class=\"col-md-5 col-sm-5 airimg{{GetFltDtl(s.b[0].FL[0]).AC}}\"></div>\\n<div class=\"col-md-7 col-sm-7 padd-lft airl-txt-n\">\\n<span class=\"txt-r4\" ng-bind=\"GetAirLineName(GetFltDtl(s.b[0].FL[0]).AC)\"></span> <br/>\\n<span class=\"txt-r5\"><span ng-bind=\"GetFltDtl(s.b[0].FL[0]).AC\"></span>-<span ng-bind=\"GetFltDtl(s.b[0].FL[0]).FN\"></span></span>\\n</div>\\n</div>\\n</div>\\n<div class=\"col-md-2 col-sm-2 col-xs-4 top5 \">\\n<span class=\"txt-r2-n\" ng-bind=\"GetFltDtl(s.b[0].FL[0]).DTM\"> </span><br/>\\n<span class=\"txt-r3-n\" ng-bind=\"GetAirportName(GetFltDtl(s.b[0].FL[0]).OG)\"></span>\\n</div>\\n<div class=\"col-md-2 col-sm-2 col-xs-5 non-st\">\\n<span class=\"dura_md\" ng-bind=\"s.b[0].JyTm\"></span>\\n<div class=\"arrow-md-lm\"></div>\\n<span class=\"dura_md2\" ng-if=\"GetFltDtl(s.b[0].FL[0]).STP==0\">non-stop</span>\\n<span class=\"dura_md2\" ng-if=\"GetFltDtl(s.b[0].FL[0]).STP==1\">1-stop</span>\\n<span class=\"dura_md2\" ng-if=\"GetFltDtl(s.b[0].FL[0]).STP==2\">2+-stop</span>\\n</div>\\n<div class=\"col-md-2 col-sm-2 col-xs-3 top5\">\\n<span class=\"txt-r2-n\" ng-bind=\"GetFltDtl(s.b[0].FL[s.b[0].FL.length-1]).ATM\"></span><br/>\\n<span class=\"txt-r3-n\" ng-bind=\"GetAirportName(GetFltDtl(s.b[0].FL[s.b[0].FL.length-1]).DT)\"></span>\\n</div>\\n<div class=\"col-md-2 col-sm-2 col-xs-5 mr5 cle\">\\n<div class=\"row\" id=\"divCutFre{{s.SK}}\" ng-show=\"s.ICPS  &amp;&amp; s.TTDIS&lt; s.TF\" style=\"display:block;\">\\n<div class=\"slash_price\" ng-if=\"s.IsRs==false\">\\n<span class=\"&lt;!-- blk-inr1 --&gt;black_{{currencyDisplay}}\"> \\xa0\\xa0</span>\\n<span class=\"cut-pric\" id=\"divCutTTLFR{{s.SK}}\" ng-bind=\"s.TF  | currency : '':0\"></span>\\n</div>\\n</div>\\n<div class=\"row\" ng-if=\"s.ICPS\">\\n<div class=\"col-md-1 col-sm-1 col-xs-2 red_{{currencyDisplay}} \"><!-- rupee_ico1 --></div>\\n<div class=\"col-md-8 col-sm-8 col-xs-9 txt-r6-n\" id=\"spnPrice{{s.SK}}\" ng-bind=\"s.TTDIS  | currency : '':0\"></div>\\n</div>\\n<div class=\"row\" ng-if=\"s.ICPS==false\">\\n<div class=\"col-md-1 col-sm-1 col-xs-2 red_{{currencyDisplay}} \"><!-- rupee_ico1 --></div>\\n<div class=\"col-md-8 col-sm-8 col-xs-9 txt-r6-n\" id=\"spnPrice{{s.SK}}\" ng-bind=\"s.TF  | currency : '':0\"></div>\\n</div>\\n<div class=\"cross-pr-grid\" style=\"display: none;\">\\n<div class=\"cross-pr-ru\"><img alt=\"rupee\" src=\"https://flight.easemytrip.com/Content/img/inr-flight-tab.png\"/></div>\\n<div class=\"cross-pr-txt\" ng-bind=\"s.TF | currency : '':0\">1250</div>\\n</div>\\n<div class=\"row\" ng-if=\"(NoAdt+NoChd)&gt;1\" style=\"display:block;\">\\n<span class=\"ti_prc\">\\n<span class=\"ttl_gry_amt\">Avg</span>\\n<i class=\"grey_{{currencyDisplay}}\"></i>\\n<span class=\"ttl_gry_amt\" ng-bind=\"GetAvgFare(s.TTDIS)\"></span>\\n</span>\\n</div>\\n<div class=\"row cou-text-app\" id=\"spnCpnTxt{{s.SK}}\" ng-bind=\"s.CpNt\" ng-if=\"s.CpNt!='' &amp;&amp; s.IsRs==false\" style=\"display: block;\"></div>\\n<a class=\"morefrebt\" id=\"divMoreFare{{segID}}\" ng-click=\"OpenMulitiFareTab(segID,s)\" ng-if=\"s.lstFr!=null &amp;&amp; s.lstFr.length&gt;1\" style=\"display:block\">+ More Fare</a>\\n</div>\\n<div class=\"col-md-2 col-sm-2 col-xs-6 txt-al-rt\">\\n<span class=\"txt-r7 dis-n\" ng-bind=\"s.SD | split:'|':10\"></span>\\n<button class=\"btn book-bt-n\" ng-click=\"SelectedFlight_L(s)\" ng-if=\"IsReschedule==true\" type=\"button\">Select Now</button>\\n<button class=\"btn book-bt-n\" ng-click=\"SelectedFlight_L(s)\" ng-if=\"IsReschedule==false\" type=\"button\">Book Now</button>\\n</div>\\n</div>\\n<div class=\"row\">\\n<div class=\"full-str\" ng-bind=\"s.Nt\" ng-if=\"s.ICPS==false\" style=\"padding: 3px 1%;color: #e25b18;margin: 0;font-size: 14px;display:block\"></div>\\n</div>\\n<!--more fare-->\\n<div class=\"corulmain\" id=\"frOption{{segID}}\" style=\"display:none\">\\n<div class=\"corboxuli\" ng-repeat=\"(frid,fr) in multiFare\">\\n<div class=\"hedule\" ng-bind=\"fr.FN\">Regular Fare</div>\\n<div class=\"heduredi\">\\n<div class=\"nw-far-oth \">\\n<label class=\"container-heduredi\">\\n<input checked=\"checked\" fr=\"{{frid}}\" id=\"fr{{s.SK}}{{frid}}\" name=\"fr{{s.SK}}\" ng-click=\"SelectOptionAndFareUpdate('fr',s.id,fr.TTDIS,frid)\" ng-if=\"frid==0\" s=\"{{s.SK}}\" type=\"radio\">\\n<input fr=\"{{frid}}\" id=\"fr{{s.SK}}{{frid}}\" name=\"fr{{s.SK}}\" ng-click=\"SelectOptionAndFareUpdate('fr',s.id,fr.TTDIS,frid)\" ng-if=\"frid=!0\" s=\"{{s.SK}}\" type=\"radio\">\\n<span class=\"checkmark-heduredi\"></span>\\n<div class=\"price-tbe\"> <span class=\"reuinrli\"></span> <span class=\"pricr-nerw\" ng-bind=\"fr.TTDIS\">2798</span> </div>\\n</input></input></label>\\n</div>\\n</div>\\n<ul>\\n<li><i class=\"tickiconnon\"></i> No Meal</li>\\n<li><i ng-class=\"fr.L_PF[0].CNP&gt;0?'tickiconnon':'tickicon'\"></i> Cancellation fee apply</li>\\n<li><i></i>Free seats available</li>\\n<li><i class=\"tickicon\"></i> Cabin baggage 7 kgs</li>\\n<li><i ng-class=\"fr.L_PF[0].CHP&gt;0?'tickiconnon':'tickicon'\"></i> Date changes not allowed</li>\\n<li ng-if=\"fr.Rmk!=''\"><i class=\"tickiconnon\"></i> {{fr.Rmk}}</li>\\n<li><i class=\"tickiconnon\"></i> No Meal</li>\\n</ul>\\n</div>\\n</div>\\n<!--more fare end-->\\n<div class=\"clr\"></div>\\n<!--Flight Details section-->\\n<!--Flight Details section-->\\n<div class=\"row light_bg\">\\n<div class=\"col-md-6\">\\n<div class=\"d-up\" id=\"{{segID}}\" ng-click=\"BindLegDetail_L(s,s.SK,s.b[0].FL,segID,'M')\"> Flight Detail</div>\\n</div>\\n<div class=\"col-md-6\">\\n<div class=\"bagage_pnl\">\\n<span class=\"fa fa-briefcase icn padd-rit-n\" ng-if=\"s.l_HB==true\" title=\"Hand Baggage Only\"></span>\\n<span class=\"hbof\" ng-if=\"s.l_HB==true\"> Hand Baggage fare only  </span>\\n</div>\\n<div class=\"bagage_pnl\">\\n<img class=\"fr_ml_icn\" height=\"19\" ng-if=\"s.Rmk!=''\" src=\"/Content/img/free-meal-n-icon2.png\" title=\"Free Meals\" width=\"20\"/>\\n<span class=\"free_mls\" ng-bind=\"s.Rmk\" ng-if=\"s.Rmk!=''\"></span>\\n</div>\\n</div>\\n</div>\\n<div class=\"sort-by-section\" id=\"divFlightDetailSec{{segID}}\" ng-if=\"segKeyLeg == s.SK\">\\n<ul class=\"tabFlightDetail\">\\n<li class=\"active\" id=\"Flinfo\" ng-click=\"BindLegDetail_L(s,s.SK,s.b[0].FL,segID,'O')\">Flight Information</li>\\n<li class=\"\" ng-click=\"BindFairDtail_L(s.SK,s,segID)\" ng-if=\"s.IsRs==false\">Fare Details</li>\\n<li class=\"\" ng-click=\"BindBaggageInfoV1_L(s.SK,s.Fr,s,segID,s.b[0])\" ng-if=\"s.IsRs==false\">Baggage Information</li>\\n<li class=\"\" ng-click=\"BindCancellationDtail(s.SK,s.Fr,segID)\" ng-if=\"s.IsRs==false\">Cancellation Rules</li>\\n</ul>\\n<div class=\"cl\" ng-click=\"CloseFlightDetailsDiv()\">\\n<img alt=\"Close Icon\" src=\"//flight.easemytrip.com/Content/img/close1.png\"/>\\n</div>\\n<div style=\"padding:15px 0;\">\\n<!-- Flight section start -->\\n<div class=\"flght-deta\" id=\"{{'fd'+segID}}\" ng-if=\"segKeyLeg == s.SK &amp;&amp; divType == 'FlyInfo'\">\\n<div data-ng-repeat=\"(legidID,l) in LegsModel\">\\n<div class=\"row\" ng-if=\"legidID==0\">\\n</div>\\n<div class=\"row no-margn mar-to-tb\" ng-if=\"legidID!=0\">\\n<div class=\"col-md-5 col-sm-5 bord-bot5\"></div>\\n<div class=\"col-md-2 col-sm-2 fnt15\">LAYOVER: <span class=\"txt-d1\" ng-bind=\"LayoverINT\"></span></div>\\n<div class=\"col-md-5 col-sm-5 bord-bot5\"></div>\\n</div>\\n<div class=\"row\">\\n<div class=\"col-md-12 col-sm-12 mar-to-tb txt-c\"> <span class=\"txt-r9\"><span ng-bind=\"l.OG | split:'|':0\"></span> \\u2192 <span ng-bind=\"l.DT | split:'|':0\"></span> </span> <span class=\"txt-r10\"></span> </div>\\n<div class=\"col-md-3 col-sm-3 col-xs-12 mg-btm\">\\n<div class=\"col-md-3 col-sm-3 col-xs-4 padd0 flightdet{{l.AC}}\"></div>\\n<div class=\"col-md-9 col-sm-9 col-xs-8\">\\n<span class=\"txt-b2\" ng-bind=\"GetAirLineName(l.AC)\"></span> <br/>\\n<span class=\"txt-b3\"><span ng-bind=\"l.AC\"></span>-<span ng-bind=\"l.FN\"></span></span>\\n</div>\\n</div>\\n<div class=\"col-md-2 col-sm-2 col-xs-5 text-left mg-btm padi-r\">\\n<span class=\"txt-b1\"><span ng-bind=\"l.OG | split:'|':0\"></span> <span ng-bind=\"l.DTM\"></span></span> <br/>\\n<span class=\"txt-b2nn\" ng-bind=\"l.DDT\"></span> <br/>\\n<span class=\"txt-b3\" ng-bind=\"l.OG | split:'|':2\"></span>\\n</div>\\n<div class=\"col-md-4 col-sm-4 col-xs-2 txt-cen3 pad-0\">\\n<div class=\"clock-wh1 clock-img-1\"></div>\\n<div class=\"full-wd3\"><span class=\"txt-b2n\" ng-bind=\"l.DUR\"></span> </div>\\n</div>\\n<div class=\"col-md-3 col-sm-3 col-xs-5 padi-r\">\\n<span class=\"txt-b1\"><span ng-bind=\"l.DT | split:'|':0\"></span> <span ng-bind=\"l.ATM\"></span></span> <br/>\\n<span class=\"txt-b2nn\" ng-bind=\"l.ADT\"></span> <br/>\\n<span class=\"txt-b3\" ng-bind=\"l.DT | split:'|':2\"></span>\\n</div>\\n</div>\\n</div>\\n</div>\\n<!--flight section end -->\\n<!--fare detail start -->\\n<div class=\"fare-deta-sec\" id=\"{{'fr'+segID}}\" ng-if=\"segKeyFair == s.SK &amp;&amp; divType == 'FlyFare'\">\\n<div class=\"row\">\\n</div>\\n<div class=\"row no-margn mar-to-12\">\\n<div class=\"col-md-4 col-sm-12 border-b2 no-padd\" ng-if=\"FairModel.length==0\">\\n<div class=\"col-md-12 col-sm-12 hz3 border-bot4\" ng-if=\"s.AP!=null &amp;&amp; s.AP&gt;0\">\\n<div class=\"col-md-8 col-sm-8 col-sm-8 no-padd fon12 fw\" ng-bind=\"NoAdt +' x '+' Adult'\"></div>\\n<div class=\"col-md-4 col-sm-4 no-padd txt-al-rt\"><span class=\"fa blacknew_{{currencyDisplay}} padd-rit3\"></span><span class=\"fon12\" ng-bind=\"s.AP\"></span></div>\\n</div>\\n<div class=\"col-md-12 col-sm-12 hz3 border-bot4\" ng-if=\"s.CP!=null &amp;&amp; s.CP&gt;0\">\\n<div class=\"col-md-8 col-sm-8 col-sm-8 no-padd fon12 fw\" ng-bind=\"NoChd+' x '+'Child'\"></div>\\n<div class=\"col-md-4 col-sm-4 no-padd txt-al-rt\"><span class=\"fa blacknew_{{currencyDisplay}} padd-rit3\"></span><span class=\"fon12\" ng-bind=\"s.CP\"></span></div>\\n</div>\\n<div class=\"col-md-12 col-sm-12 hz3 border-bot4\" ng-if=\"s.IP!=null &amp;&amp; s.IP&gt;0\">\\n<div class=\"col-md-8 col-sm-8 col-sm-8 no-padd fon12 fw\" ng-bind=\"NoInf +' x '+' Infant'\"></div>\\n<div class=\"col-md-4 col-sm-4 no-padd txt-al-rt\"><span class=\"fa blacknew_{{currencyDisplay}} padd-rit3\"></span><span class=\"fon12\" ng-bind=\"s.IP\"></span></div>\\n</div>\\n<div class=\"col-md-12 col-sm-12 hz3 border-bot4\">\\n<div class=\"col-md-8 col-sm-8 no-padd fon12\"><strong>Total (Base Fare)</strong> </div>\\n<div class=\"col-md-4 col-sm-4 no-padd txt-al-rt\"><span class=\"fa blacknew_{{currencyDisplay}} padd-rit3\"></span><span class=\"fon12\" ng-bind=\"s.AP+s.CP+s.IP\"></span></div>\\n</div>\\n<div class=\"col-md-12 col-sm-12 hz3 border-bot4\" ng-click=\"TaxToggel(segID)\" style=\"cursor:pointer;\">\\n<div class=\"col-md-8 col-sm-8 no-padd fon12\"><strong>Total Tax  </strong> </div>\\n<div class=\"col-md-4 col-sm-4 no-padd txt-al-rt\"><span class=\"fa blacknew_{{currencyDisplay}} padd-rit3\"></span><span class=\"fon12\" ng-bind=\"s.TT\"></span></div>\\n</div>\\n<div class=\"ini\">\\n<div id=\"{{'divTax'+segID}}\" style=\"display:none; overflow:initial!important;\">\\n<div class=\"col-md-12 col-sm-12 pad-top-bot border-bot4\" data-ng-repeat=\"(txID,txDtl) in s.Fare.lstTxDt\">\\n<div class=\"col-md-8 col-sm-8 no-padd\" ng-if=\"txDtl.ChgCd!=''\"><span ng-bind=\"txDtl.ChgeTp\"></span></div>\\n<div class=\"col-md-4 col-sm-4 no-padd txt-al-rt\" ng-if=\"txDtl.ChgCd!=''\"><span class=\"fa blacknew_{{currencyDisplay}} padd-rit3\"></span><span ng-bind=\"txDtl.Amt\"></span></div>\\n</div>\\n</div>\\n</div>\\n<div class=\"col-md-12 col-sm-12 hz3 border-bot4\">\\n<div class=\"col-md-8 col-sm-8 no-padd fon12\"><strong>Total (Fee &amp; Surcharge)</strong> </div>\\n<div class=\"col-md-4 col-sm-4 no-padd txt-al-rt\"><span class=\"fa blacknew_{{currencyDisplay}} padd-rit\"></span><span class=\"fon12\" ng-bind=\"s.TF\"></span></div>\\n</div>\\n</div>\\n<div class=\"col-md-4 col-sm-12 border-b2 no-padd\" ng-if=\"FairModel.length&gt;0\">\\n<div class=\"col-md-12 col-sm-12 hz3 border-bot4\" ng-repeat=\"fm in FairModel\">\\n<div class=\"col-md-8 col-sm-8 col-sm-8 no-padd fon12 fw\" ng-bind=\"fm.count +' x '+ fm.pxType\"></div>\\n<div class=\"col-md-4 col-sm-4 no-padd txt-al-rt\"><span class=\"fa blacknew_{{currencyDisplay}} padd-rit3\"></span><span class=\"fon12\" ng-bind=\"fm.bscFre\"></span></div>\\n</div>\\n<div class=\"col-md-12 col-sm-12 hz3 border-bot4\">\\n<div class=\"col-md-8 col-sm-8 no-padd fon12\"><strong>Total (Base Fare)</strong> </div>\\n<div class=\"col-md-4 col-sm-4 no-padd txt-al-rt\"><span class=\"fa blacknew_{{currencyDisplay}} padd-rit3\"></span><span class=\"fon12\" ng-bind=\"TotalBaseFair\"></span></div>\\n</div>\\n<div class=\"col-md-12 col-sm-12 hz3 border-bot4\" ng-click=\"TaxToggel(segID)\" style=\"cursor:pointer;\">\\n<div class=\"col-md-8 col-sm-8 no-padd fon12\"><strong>Total Tax  </strong> </div>\\n<div class=\"col-md-4 col-sm-4 no-padd txt-al-rt\"><span class=\"fa blacknew_{{currencyDisplay}} padd-rit3\"></span><span class=\"fon12\" ng-bind=\"TotalTax\"></span></div>\\n</div>\\n<div class=\"ini\">\\n<div id=\"{{'divTax'+segID}}\" style=\"display:none; overflow:initial!important;\">\\n<div class=\"col-md-12 col-sm-12 pad-top-bot border-bot4\" data-ng-repeat=\"(txID,txDtl) in s.Fare.lstTxDt\">\\n<div class=\"col-md-8 col-sm-8 no-padd\" ng-if=\"txDtl.ChgCd!=''\"><span ng-bind=\"txDtl.ChgeTp\"></span></div>\\n<div class=\"col-md-4 col-sm-4 no-padd txt-al-rt\" ng-if=\"txDtl.ChgCd!=''\"><span class=\"fa blacknew_{{currencyDisplay}} padd-rit3\"></span><span ng-bind=\"txDtl.Amt\"></span></div>\\n</div>\\n</div>\\n</div>\\n<div class=\"col-md-12 col-sm-12 hz3 border-bot4\">\\n<div class=\"col-md-8 col-sm-8 no-padd fon12\"><strong>Total (Fee &amp; Surcharge)</strong> </div>\\n<div class=\"col-md-4 col-sm-4 no-padd txt-al-rt\"><span class=\"fa blacknew_{{currencyDisplay}} padd-rit\"></span><span class=\"fon12\" ng-bind=\"totalFare\"></span></div>\\n</div>\\n</div>\\n<div class=\"col-md-8 col-sm-12 pad-0 pad-btmm\">\\n<div class=\"bood mg-btm\">\\n<div class=\"row\">\\n<div class=\"col-md-6 col-sm-6 pad-top-bot txt-d4 txt-c\">Fare Rules</div>\\n<div class=\"col-md-6 col-sm-6 col-xs-12 hei txt-c mg-btm m-10\">\\n<div class=\"refund\" ng-bind=\"Refundable\"></div>\\n</div>\\n</div>\\n<div class=\"row\">\\n<div class=\"col-md-6 col-sm-6 col-xs-12\">\\n<div class=\"row\">\\n<div class=\"col-md-12 col-sm-12 col-xs-12 can-z fw\">Cancellation Charges</div>\\n</div>\\n<table border=\"1\" class=\"table table-striped mar10 tab\" rules=\"all\" style=\"border:1px solid #ddd;\">\\n<tr ng-if=\"CanLCPOBJ.LCP==null\">\\n<td scope=\"row\" width=\"50%\">Airline Fee</td>\\n<td width=\"50%\"><span class=\"fa blacknew_{{currencyDisplay}} padd-rit3\"></span> <span ng-bind=\"CancellPenalty\"></span></td>\\n</tr>\\n<tr ng-repeat=\"lc in CanLCPOBJ.LCP\">\\n<td scope=\"row\" width=\"50%\"><!-- Airline Fee --><span ng-bind=\"lc.D +' Departure'\"></span></td>\\n<td width=\"50%\"><span class=\"fa blacknew_{{currencyDisplay}} padd-rit3\"></span><span ng-bind=\"lc.CP\"></span><!--  <span ng-bind=\"CancellPenalty\"></span> --></td>\\n</tr>\\n<tr>\\n<td scope=\"row\">EaseMyTrip Fee </td>\\n<td><span class=\"fa blacknew_{{currencyDisplay}} padd-rit3\"></span> <span ng-bind=\"EmtServiceFee\"></span></td>\\n</tr>\\n</table>\\n</div>\\n<div class=\"col-md-6 col-sm-6 col-xs-12\">\\n<div class=\"row\">\\n<div class=\"col-md-12 col-sm-12 col-xs-12 can-z fw\">Reschedule Charges \\r\\n</div>\\n</div>\\n<table border=\"1\" class=\"table table-striped mar10 tab\" rules=\"all\" style=\"border:1px solid #ddd;\">\\n<tr ng-if=\"CanLCPOBJ.LCP==null\">\\n<td scope=\"row\" width=\"50%\">Airline Fee</td>\\n<td width=\"50%\"><span class=\"fa blacknew_{{currencyDisplay}} padd-rit3\"></span> <span ng-bind=\"ChangePenalty\"></span></td>\\n</tr>\\n<tr ng-repeat=\"lc in CanLCPOBJ.LCP\">\\n<td scope=\"row\" width=\"50%\"><!-- Airline Fee --><span ng-bind=\"lc.D +' Departure'\"></span></td>\\n<td width=\"50%\"><span class=\"fa blacknew_{{currencyDisplay}} padd-rit3\"></span><span ng-bind=\"lc.CH\"></span><!--  <span ng-bind=\"CancellPenalty\"></span> --></td>\\n</tr>\\n<tr>\\n<td scope=\"row\">EaseMyTrip Fee </td>\\n<td><span class=\"fa blacknew_{{currencyDisplay}} padd-rit3\"></span> <span ng-bind=\"EmtServiceFee\"></span></td>\\n</tr>\\n</table>\\n</div>\\n</div>\\n<div class=\"row\">\\n<div class=\"col-md-12 col-sm-12 col-xs-12 terms-h\">Terms &amp; Conditions</div>\\n<div class=\"col-md-12 col-sm-12 col-xs-12\">\\n<div class=\"terms mar10\">\\n<ul>\\n<!--li>Penalty is subject to 4 hours prior to departure and no changes are allowed after that.</li-->\\n<li>The charges will be on per passenger per sector</li>\\n<li>Rescheduling Charges = Rescheduling/Change Penalty + Fare Difference (if applicable)</li>\\n<li>Partial cancellation is not allowed on the flight tickets which are book under special discounted fares</li>\\n<li>In case, the customer have not cancelled the ticket within the stipulated time or no show then only statutory taxes are refundable from the respective airlines</li>\\n<li>For infants there is no baggage allowance</li>\\n<li>In certain situations of restricted cases, no amendments and cancellation is allowed</li>\\n<li>Penalty from airlines needs to be reconfirmed before any cancellation or amendments</li>\\n<li>Penalty changes in airline are indicative and can be changed without any prior notice</li>\\n</ul>\\n</div>\\n</div>\\n</div>\\n</div>\\n</div>\\n</div>\\n</div>\\n<div class=\"baggage-info\" id=\"{{'bg'+segID}}\" ng-if=\"segKeyBaggage == s.SK  &amp;&amp; divType == 'FlyBag'\">\\n<div class=\"row\">\\n</div>\\n<div class=\"row bord-bot5 no-margn mar-to-12\">\\n<div class=\"col-md-3 col-sm-3 col-xs-4 fon13\">AIRLINE</div>\\n<div class=\"col-md-3 col-sm-3 col-xs-4 pad-0 fon13\">Check-in Baggage</div>\\n<div class=\"col-md-3 col-sm-3 col-xs-4 fon13\">Cabin Baggage</div>\\n</div>\\n<div class=\"row mar-to-12 no-margn mar-btm\" ng-repeat=\"baggage in BaggageModel\">\\n<div class=\"col-md-3 col-sm-3 col-xs-4 pad-0 mg-btm mr-tp\">\\n<div class=\"col-md-2 col-sm-2 col-xs-12 txt-c airbag{{baggage.segDTL | split:'|':1}}\"></div>\\n<div class=\"col-md-9 col-sm-9 pad-lft0 hidden-xs\">\\n<span class=\"fon11\" ng-bind=\"baggage.segDTL | split:'|':0\"></span>\\n<br/>\\n<span class=\"fon11\" ng-bind=\"baggage.segDTL | split:'|':1\"></span>-<span class=\"fon11\" ng-bind=\"baggage.segDTL | split:'|':2\"></span>\\n</div>\\n</div>\\n<div class=\"col-md-3 col-xs-4 col-sm-3 pad-0 fon11 mr-tp\"><strong><span ng-bind=\"baggage.pxType\"></span></strong> <span ng-bind=\"baggage.baggWeight\"></span><span ng-bind=\"baggage.baggUnit | lowercase\"></span></div>\\n<div class=\"col-md-3 col-sm-3 col-xs-4 fon11 mr-tp\"><strong><span ng-bind=\"baggage.pxType\"></span></strong><span>{{baggage.HB}}kg</span> </div>\\n</div>\\n</div>\\n<!-- baggage section new end -->\\n<!--Cancellation section Rules -->\\n<div ng-if=\"segKeyCancel == s.SK  &amp;&amp; divType == 'FlyCancel'\" style=\"padding:15px 0; float:left;\">\\n<div class=\"col-md-10 col-md-offset-1 col-sm-12 pad-0 pad-btmm\">\\n<div class=\"bood mg-btm\">\\n<div class=\"row\">\\n<div class=\"col-md-6 col-sm-6 pad-top-bot txt-d4 txt-c\">Fare Rules</div>\\n<div class=\"col-md-6 col-sm-6 col-xs-12 hei txt-c mg-btm m-10\">\\n<div class=\"refund\" ng-bind=\"Refundable\"></div>\\n</div>\\n</div>\\n<div class=\"fare-panel\" style=\"display:none\">\\n<div class=\"airline-fare-rules\">\\n<div class=\"fare-row rules-heading\">\\n<p class=\"time-diffe\">TIME</p>\\n<p class=\"time-diffe\">\\r\\n                                                                            CANCELLATION FEE <br/>\\n<span style=\"font-weight:normal;font-size:11px\">(Airline Fee + EMT Fee)</span>\\n</p>\\n<p class=\"time-diffe\">\\r\\n                                                                            RESCHEDULE FEES <br/>\\n<span style=\"font-weight:normal;font-size:11px\">(Airline Fee + EMT Fee + Fare Difference )</span>\\n</p>\\n</div>\\n<div class=\"fare-row\">\\n<div class=\"time-diffe2\">0 hours to 2 hours*</div>\\n<div class=\"cancellation-fee\">\\n<p>\\r\\n                                                                                Non Refundable <br/>\\n</p>\\n</div>\\n<div class=\"date-change-fee\">\\n<p>\\r\\n                                                                                Non Changeable<br/>\\n</p>\\n</div>\\n</div>\\n<div class=\"fare-row\">\\n<div class=\"time-diffe2\">2 hours to 24 hours*</div>\\n<div class=\"cancellation-fee\">\\n<p>\\r\\n                                                                                Rs.3,195 + Rs.300<br/>\\n</p>\\n</div>\\n<div class=\"date-change-fee\">\\n<p>\\r\\n                                                                                Rs.3,000 + Rs.300 + Fare difference<br/>\\n</p>\\n</div>\\n</div>\\n<div class=\"fare-row\">\\n<div class=\"time-diffe2\">24 hours to 3 days*</div>\\n<div class=\"cancellation-fee\">\\n<p>\\r\\n                                                                                Rs.3,195 + Rs.300<br/>\\n</p>\\n</div>\\n<div class=\"date-change-fee\">\\n<p>\\r\\n                                                                                Rs.3,000 + Rs.300 + Fare difference<br/>\\n</p>\\n</div>\\n</div>\\n<div class=\"fare-row\">\\n<div class=\"time-diffe2\">3 days to 365 days*</div>\\n<div class=\"cancellation-fee\">\\n<p>\\r\\n                                                                                Rs.3,000 + Rs.300<br/>\\n</p>\\n</div>\\n<div class=\"date-change-fee\">\\n<p>\\r\\n                                                                                Rs.2,500 + Rs.300 + Fare difference<br/>\\n</p>\\n</div>\\n</div>\\n</div>\\n</div>\\n<div class=\"row\">\\n<div class=\"col-md-6 col-sm-6 col-xs-12\">\\n<div class=\"row\">\\n<div class=\"col-md-12 col-sm-12 col-xs-12 can-z\">Cancellation Charges</div>\\n</div>\\n<table border=\"1\" class=\"table table-striped mar10 tab\" rules=\"all\" style=\"border:1px solid #ddd;\">\\n<tr ng-if=\"CanLCPOBJ.LCP==null\">\\n<td scope=\"row\" width=\"50%\">Airline Fee</td>\\n<td width=\"50%\"><span class=\"fa blacknew_{{currencyDisplay}} padd-rit3\"></span> <span ng-bind=\"CancellPenalty\"></span></td>\\n</tr>\\n<tr ng-repeat=\"lc in CanLCPOBJ.LCP\">\\n<td scope=\"row\" width=\"50%\"><!-- Airline Fee --><span ng-bind=\"lc.D +' Departure'\"></span></td>\\n<td width=\"50%\"><span class=\"fa blacknew_{{currencyDisplay}} padd-rit3\"></span><span ng-bind=\"lc.CP\"></span><!--  <span ng-bind=\"CancellPenalty\"></span> --></td>\\n</tr>\\n<tr>\\n<td scope=\"row\">EaseMyTrip Fee </td>\\n<td><span class=\"fa blacknew_{{currencyDisplay}} padd-rit3\"></span> <span ng-bind=\"EmtServiceFee\"></span></td>\\n</tr>\\n</table>\\n</div>\\n<div class=\"col-md-6 col-sm-6 col-xs-12\">\\n<div class=\"row\">\\n<div class=\"col-md-12 col-sm-12 col-xs-12 can-z\">Reschedule Charges \\r\\n</div>\\n</div>\\n<table border=\"1\" class=\"table table-striped mar10 tab\" rules=\"all\" style=\"border:1px solid #ddd;\">\\n<tr ng-if=\"CanLCPOBJ.LCP==null\">\\n<td scope=\"row\" width=\"50%\">Airline Fee</td>\\n<td width=\"50%\"><span class=\"fa blacknew_{{currencyDisplay}} padd-rit3\"></span> <span ng-bind=\"ChangePenalty\"></span></td>\\n</tr>\\n<tr ng-repeat=\"lc in CanLCPOBJ.LCP\">\\n<td scope=\"row\" width=\"50%\"><!-- Airline Fee --><span ng-bind=\"lc.D +' Departure'\"></span></td>\\n<td width=\"50%\"><span class=\"fa blacknew_{{currencyDisplay}} padd-rit3\"></span><span ng-bind=\"lc.CH\"></span><!--  <span ng-bind=\"CancellPenalty\"></span> --></td>\\n</tr>\\n<tr>\\n<td scope=\"row\">EaseMyTrip Fee </td>\\n<td><span class=\"fa blacknew_{{currencyDisplay}} padd-rit3\"></span> <span ng-bind=\"EmtServiceFee\"></span></td>\\n</tr>\\n</table>\\n</div>\\n</div>\\n<div class=\"row\">\\n<div class=\"col-md-12 col-sm-12 col-xs-12 terms-h\">Terms &amp; Conditions</div>\\n<div class=\"col-md-12 col-sm-12 col-xs-12\">\\n<div class=\"terms mar10\">\\n<ul>\\n<!--li>Penalty is subject to 4 hours prior to departure and no changes are allowed after that.</li-->\\n<li>The charges will be on per passenger per sector</li>\\n<li>Rescheduling Charges = Rescheduling/Change Penalty + Fare Difference (if applicable)</li>\\n<li>Partial cancellation is not allowed on the flight tickets which are book under special discounted fares</li>\\n<li>In case, the customer have not cancelled the ticket within the stipulated time or no show then only statutory taxes are refundable from the respective airlines</li>\\n<li>For infants there is no baggage allowance</li>\\n<li>In certain situations of restricted cases, no amendments and cancellation is allowed</li>\\n<li>Penalty from airlines needs to be reconfirmed before any cancellation or amendments</li>\\n<li>Penalty changes in airline are indicative and can be changed without any prior notice</li>\\n</ul>\\n</div>\\n</div>\\n</div>\\n</div>\\n</div>\\n</div>\\n</div>\\n</div>\\n</div>\\n<div ng-if=\"segID==1 &amp;&amp; isDomestic\" style=\"width: 100%;float: left;margin-bottom: 10px;\">\\n<img alt=\"No convenience fee\" src=\"https://flight.easemytrip.com/content/img/zero-convience-strip1.png\"/>\\n</div>\\n<div id=\"LoadMore\" ng-click=\"LoadMore();\" style=\"cursor:pointer;color:#2d67b2;margin-bottom:11px;padding :5px 1%;font-size: 15px;font-weight: bold;float :left;width :100%;text-align: center;background: #a9dee4;display:none;\">Load More</div>\\n<!------Center ---->\\n<!------Center ---->\\n<div ng-show=\"!apiData.length\">No Record found</div>\\n<div class=\"clr\"></div>\\n</div>\\n<div class=\"view-m1\" style=\"display:none;\"><button class=\"button-v\" ng-click=\"ViewMoreFlight_New()\">View all flights for this route</button></div>\\n</div>\\n<script language=\"JavaScript\">\\r\\n                                $(function () {\\r\\n                                    $(document).on(\"click\", \".sort-by-section li\", function () {\\r\\n                                        $('.sort-by-section li.active').removeClass('active');\\r\\n                                        $(this).addClass('active');\\r\\n                                    });\\r\\n                                });\\r\\n                            </script>\\n<script>\\r\\n                                $(document).ready(function () {\\r\\n                                    $(\"#bell\").click(function () {\\r\\n                                        $(\"#bell_noti\").toggle();\\r\\n                                    });\\r\\n                                    $(\".bell_cross\").click(function () {\\r\\n                                        $(\"#bell_noti\").hide();\\r\\n                                        $(\".b1\").show();\\r\\n                                        $(\".b2\").hide();\\r\\n                                    });\\r\\n\\r\\n                                    $(\".b1\").click(function () {\\r\\n                                        $(\".b2\").show();\\r\\n                                        $(\".b1\").hide();\\r\\n                                    });\\r\\n                                    $(\".b2\").click(function () {\\r\\n                                        $(\".b1\").show();\\r\\n                                        $(\".b2\").hide();\\r\\n                                    });\\r\\n\\r\\n\\r\\n\\r\\n                                });\\r\\n                            </script>\\n</div>\\n</div>]\n"
     ]
    }
   ],
   "source": [
    "print entriesList"
   ]
  },
  {
   "cell_type": "code",
   "execution_count": 76,
   "metadata": {},
   "outputs": [
    {
     "name": "stdout",
     "output_type": "stream",
     "text": [
      "<class 'bs4.element.ResultSet'>\n"
     ]
    }
   ],
   "source": [
    "# rows = entriesList.find_all('div')\n",
    "print type(entriesList)"
   ]
  },
  {
   "cell_type": "code",
   "execution_count": 82,
   "metadata": {},
   "outputs": [],
   "source": [
    "# print entriesList.source?"
   ]
  },
  {
   "cell_type": "code",
   "execution_count": null,
   "metadata": {},
   "outputs": [],
   "source": [
    "print entriesList.source"
   ]
  },
  {
   "cell_type": "code",
   "execution_count": null,
   "metadata": {},
   "outputs": [],
   "source": [
    "print entriesList.find"
   ]
  },
  {
   "cell_type": "code",
   "execution_count": 95,
   "metadata": {},
   "outputs": [],
   "source": [
    "temp = soup.find_all('div',{'class':'row no-margn fltResult ng-scope'})"
   ]
  },
  {
   "cell_type": "code",
   "execution_count": 96,
   "metadata": {},
   "outputs": [
    {
     "name": "stdout",
     "output_type": "stream",
     "text": [
      "0\n"
     ]
    }
   ],
   "source": [
    "print len(temp)"
   ]
  },
  {
   "cell_type": "code",
   "execution_count": 97,
   "metadata": {},
   "outputs": [],
   "source": [
    "souptemp = BS(r.text,'lxml')"
   ]
  },
  {
   "cell_type": "code",
   "execution_count": 98,
   "metadata": {},
   "outputs": [],
   "source": [
    "temptemp = souptemp.find_all('div',{'class':'row no-margn fltResult ng-scope'})"
   ]
  },
  {
   "cell_type": "code",
   "execution_count": 99,
   "metadata": {},
   "outputs": [
    {
     "name": "stdout",
     "output_type": "stream",
     "text": [
      "[]\n"
     ]
    }
   ],
   "source": [
    "print temptemp"
   ]
  },
  {
   "cell_type": "code",
   "execution_count": null,
   "metadata": {},
   "outputs": [],
   "source": []
  }
 ],
 "metadata": {
  "kernelspec": {
   "display_name": "Python 2",
   "language": "python",
   "name": "python2"
  },
  "language_info": {
   "codemirror_mode": {
    "name": "ipython",
    "version": 2
   },
   "file_extension": ".py",
   "mimetype": "text/x-python",
   "name": "python",
   "nbconvert_exporter": "python",
   "pygments_lexer": "ipython2",
   "version": "2.7.14"
  }
 },
 "nbformat": 4,
 "nbformat_minor": 2
}
